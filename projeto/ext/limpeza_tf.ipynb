{
	"cells": [
		{
			"cell_type": "code",
			"execution_count": 1,
			"metadata": {
				"editable": true,
				"trusted": true,
				"vscode": {
					"languageId": "python_glue_session"
				}
			},
			"outputs": [
				{
					"name": "stdout",
					"output_type": "stream",
					"text": [
						"Welcome to the Glue Interactive Sessions Kernel\n",
						"For more information on available magic commands, please type %help in any new cell.\n",
						"\n",
						"Please view our Getting Started page to access the most up-to-date information on the Interactive Sessions kernel: https://docs.aws.amazon.com/glue/latest/dg/interactive-sessions.html\n",
						"Installed kernel version: 1.0.4 \n"
					]
				}
			],
			"source": [
				"# %help"
			]
		},
		{
			"cell_type": "code",
			"execution_count": 2,
			"metadata": {
				"tags": [],
				"trusted": true,
				"vscode": {
					"languageId": "python_glue_session"
				}
			},
			"outputs": [
				{
					"name": "stdout",
					"output_type": "stream",
					"text": [
						"Welcome to the Glue Interactive Sessions Kernel\n",
						"For more information on available magic commands, please type %help in any new cell.\n",
						"\n",
						"Please view our Getting Started page to access the most up-to-date information on the Interactive Sessions kernel: https://docs.aws.amazon.com/glue/latest/dg/interactive-sessions.html\n",
						"Installed kernel version: 1.0.4 \n",
						"There is no current session.\n"
					]
				}
			],
			"source": [
				"%stop_session"
			]
		},
		{
			"cell_type": "code",
			"execution_count": 11,
			"metadata": {
				"tags": [],
				"trusted": true,
				"vscode": {
					"languageId": "python_glue_session"
				}
			},
			"outputs": [
				{
					"name": "stderr",
					"output_type": "stream",
					"text": [
						"You are already connected to a glueetl session 40888b3f-91ff-4a79-9d99-1a05f24cebb0.\n",
						"\n",
						"No change will be made to the current session that is set as glueetl. The session configuration change will apply to newly created sessions.\n"
					]
				},
				{
					"name": "stdout",
					"output_type": "stream",
					"text": [
						"Additional python modules to be included:\n",
						"awswrangler=3.7.2\n"
					]
				},
				{
					"name": "stderr",
					"output_type": "stream",
					"text": [
						"You are already connected to a glueetl session 40888b3f-91ff-4a79-9d99-1a05f24cebb0.\n",
						"\n",
						"No change will be made to the current session that is set as glueetl. The session configuration change will apply to newly created sessions.\n"
					]
				},
				{
					"name": "stdout",
					"output_type": "stream",
					"text": [
						"Current idle_timeout is 2880 minutes.\n",
						"idle_timeout has been set to 2880 minutes.\n"
					]
				},
				{
					"name": "stderr",
					"output_type": "stream",
					"text": [
						"You are already connected to a glueetl session 40888b3f-91ff-4a79-9d99-1a05f24cebb0.\n",
						"\n",
						"No change will be made to the current session that is set as glueetl. The session configuration change will apply to newly created sessions.\n"
					]
				},
				{
					"name": "stdout",
					"output_type": "stream",
					"text": [
						"Setting Glue version to: 4.0\n"
					]
				},
				{
					"name": "stderr",
					"output_type": "stream",
					"text": [
						"You are already connected to a glueetl session 40888b3f-91ff-4a79-9d99-1a05f24cebb0.\n",
						"\n",
						"No change will be made to the current session that is set as glueetl. The session configuration change will apply to newly created sessions.\n"
					]
				},
				{
					"name": "stdout",
					"output_type": "stream",
					"text": [
						"Previous worker type: G.1X\n",
						"Setting new worker type to: G.1X\n"
					]
				},
				{
					"name": "stderr",
					"output_type": "stream",
					"text": [
						"You are already connected to a glueetl session 40888b3f-91ff-4a79-9d99-1a05f24cebb0.\n",
						"\n",
						"No change will be made to the current session that is set as glueetl. The session configuration change will apply to newly created sessions.\n"
					]
				},
				{
					"name": "stdout",
					"output_type": "stream",
					"text": [
						"Previous number of workers: 2\n",
						"Setting new number of workers to: 2\n"
					]
				}
			],
			"source": [
				"%additional_python_modules [awswrangler=3.7.2]\n",
				"%idle_timeout 2880\n",
				"%glue_version 4.0\n",
				"%worker_type G.1X\n",
				"%number_of_workers 2"
			]
		},
		{
			"cell_type": "markdown",
			"metadata": {
				"editable": true,
				"trusted": true
			},
			"source": [
				"####  Setup e imports.\n"
			]
		},
		{
			"cell_type": "code",
			"execution_count": 10,
			"metadata": {
				"editable": true,
				"trusted": true,
				"vscode": {
					"languageId": "python_glue_session"
				}
			},
			"outputs": [
				{
					"name": "stdout",
					"output_type": "stream",
					"text": [
						"\n"
					]
				}
			],
			"source": [
				"import sys\n",
				"from awsglue.transforms import *\n",
				"from awsglue.utils import getResolvedOptions\n",
				"from pyspark.context import SparkContext\n",
				"from awsglue.context import GlueContext\n",
				"from awsglue.job import Job\n",
				"from awsglue.dynamicframe import DynamicFrame\n",
				"import pyspark.pandas as ps\n",
				"  \n",
				"sc = SparkContext.getOrCreate()\n",
				"glueContext = GlueContext(sc)\n",
				"spark = glueContext.spark_session\n",
				"job = Job(glueContext)"
			]
		},
		{
			"cell_type": "code",
			"execution_count": 17,
			"metadata": {
				"tags": [],
				"trusted": true,
				"vscode": {
					"languageId": "python_glue_session"
				}
			},
			"outputs": [
				{
					"name": "stdout",
					"output_type": "stream",
					"text": [
						"\n"
					]
				}
			],
			"source": [
				"import pandas as pd\n",
				"import warnings\n",
				"warnings.filterwarnings(\"ignore\")"
			]
		},
		{
			"cell_type": "code",
			"execution_count": 3,
			"metadata": {
				"tags": [],
				"trusted": true,
				"vscode": {
					"languageId": "python_glue_session"
				}
			},
			"outputs": [
				{
					"name": "stdout",
					"output_type": "stream",
					"text": [
						"\n"
					]
				}
			],
			"source": [
				"# Biblioteca que trata dados desbalanceados através da técnica de oversampling\n",
				"# from imblearn.over_sampling import RandomOverSampler\n",
				"from collections import Counter"
			]
		},
		{
			"cell_type": "markdown",
			"metadata": {
				"editable": true,
				"tags": [],
				"trusted": true
			},
			"source": [
				"#### Leitura da tabela e impressão do esquema do dataframe\n"
			]
		},
		{
			"cell_type": "code",
			"execution_count": 4,
			"metadata": {
				"editable": true,
				"trusted": true,
				"vscode": {
					"languageId": "python_glue_session"
				}
			},
			"outputs": [
				{
					"name": "stdout",
					"output_type": "stream",
					"text": [
						"root\n",
						"|-- rownumber: long\n",
						"|-- customerid: long\n",
						"|-- surname: string\n",
						"|-- creditscore: long\n",
						"|-- geography: string\n",
						"|-- gender: string\n",
						"|-- age: double\n",
						"|-- tenure: long\n",
						"|-- balance: double\n",
						"|-- numofproducts: long\n",
						"|-- hascrcard: long\n",
						"|-- isactivemember: long\n",
						"|-- estimatedsalary: double\n",
						"|-- exited: long\n"
					]
				}
			],
			"source": [
				"dyf = glueContext.create_dynamic_frame.from_catalog(database='banking_tables', table_name='clientes_bancarios')\n",
				"dyf.printSchema()"
			]
		},
		{
			"cell_type": "markdown",
			"metadata": {
				"editable": true,
				"tags": [],
				"trusted": true
			},
			"source": [
				"#### Imprimindo amostra\n"
			]
		},
		{
			"cell_type": "code",
			"execution_count": 5,
			"metadata": {
				"editable": true,
				"trusted": true,
				"vscode": {
					"languageId": "python_glue_session"
				}
			},
			"outputs": [
				{
					"name": "stdout",
					"output_type": "stream",
					"text": [
						"+---------+----------+---------+-----------+---------+------+-----+------+---------+-------------+---------+--------------+---------------+------+\n",
						"|rownumber|customerid|  surname|creditscore|geography|gender|  age|tenure|  balance|numofproducts|hascrcard|isactivemember|estimatedsalary|exited|\n",
						"+---------+----------+---------+-----------+---------+------+-----+------+---------+-------------+---------+--------------+---------------+------+\n",
						"|        1|  15634602| Hargrave|        619|   France|Female| 42.0|     2|      0.0|            1|        1|             1|      101348.88|     1|\n",
						"|        2|  15647311|     Hill|        608|    Spain|Female| 41.0|     1| 83807.86|            1|        0|             1|      112542.58|     0|\n",
						"|        3|  15619304|     Onio|        502|   France|Female| 42.0|     8| 159660.8|            3|        1|             0|      113931.57|     1|\n",
						"|        4|  15701354|     Boni|        699|   France|Female| 39.0|     1|      0.0|            2|        0|             0|       93826.63|     0|\n",
						"|        5|  15737888| Mitchell|        850|    Spain|Female| 43.0|     2|125510.82|            1|     null|             1|        79084.1|     0|\n",
						"|        6|  15574012|      Chu|        645|    Spain|  Male| 44.0|     8|113755.78|            2|        1|             0|      149756.71|     1|\n",
						"|        7|  15592531| Bartlett|        822|         |  Male| 50.0|     7|      0.0|            2|        1|             1|        10062.8|     0|\n",
						"|        8|  15656148|   Obinna|        376|  Germany|Female| 29.0|     4|115046.74|            4|        1|             0|      119346.88|     1|\n",
						"|        9|  15792365|       He|        501|   France|  Male| 44.0|     4|142051.07|            2|        0|          null|        74940.5|     0|\n",
						"|       10|  15592389|       H?|        684|   France|  Male| null|     2|134603.88|            1|        1|             1|       71725.73|     0|\n",
						"|       11|  15767821|   Bearce|        528|   France|  Male| 31.0|     6|102016.72|            2|        0|             0|       80181.12|     0|\n",
						"|       12|  15737173|  Andrews|        497|    Spain|  Male| 24.0|     3|      0.0|            2|        1|             0|       76390.01|     0|\n",
						"|       13|  15632264|      Kay|        476|   France|Female| 34.0|    10|      0.0|            2|        1|             0|       26260.98|     0|\n",
						"|       14|  15691483|     Chin|        549|   France|Female| 25.0|     5|      0.0|            2|        0|             0|      190857.79|     0|\n",
						"|       15|  15600882|    Scott|        635|    Spain|Female| 35.0|     7|      0.0|            2|        1|             1|       65951.65|     0|\n",
						"|       16|  15643966|  Goforth|        616|  Germany|  Male| 45.0|     3|143129.41|            2|        0|             1|       64327.26|     0|\n",
						"|       17|  15737452|    Romeo|        653|  Germany|  Male| 58.0|     1|132602.88|            1|        1|             0|        5097.67|     1|\n",
						"|       18|  15788218|Henderson|        549|    Spain|Female| 24.0|     9|      0.0|            2|        1|             1|       14406.41|     0|\n",
						"|       19|  15661507|  Muldrow|        587|    Spain|  Male|45.25|     6|      0.0|            1|        0|             0|      158684.81|     0|\n",
						"|       20|  15568982|      Hao|        726|   France|Female| 24.0|     6|      0.0|            2|        1|             1|       54724.03|     0|\n",
						"+---------+----------+---------+-----------+---------+------+-----+------+---------+-------------+---------+--------------+---------------+------+\n",
						"only showing top 20 rows\n"
					]
				}
			],
			"source": [
				"df = dyf.toDF()\n",
				"df.show()"
			]
		},
		{
			"cell_type": "code",
			"execution_count": 20,
			"metadata": {
				"tags": [],
				"trusted": true,
				"vscode": {
					"languageId": "python_glue_session"
				}
			},
			"outputs": [
				{
					"name": "stdout",
					"output_type": "stream",
					"text": [
						"\n"
					]
				}
			],
			"source": [
				"df_clientes = df.toPandas()\n"
			]
		},
		{
			"cell_type": "code",
			"execution_count": 7,
			"metadata": {
				"tags": [],
				"trusted": true,
				"vscode": {
					"languageId": "python_glue_session"
				}
			},
			"outputs": [
				{
					"name": "stdout",
					"output_type": "stream",
					"text": [
						"<class 'pandas.core.frame.DataFrame'>\n",
						"RangeIndex: 10002 entries, 0 to 10001\n",
						"Data columns (total 14 columns):\n",
						" #   Column           Non-Null Count  Dtype  \n",
						"---  ------           --------------  -----  \n",
						" 0   rownumber        10002 non-null  int64  \n",
						" 1   customerid       10002 non-null  int64  \n",
						" 2   surname          10002 non-null  object \n",
						" 3   creditscore      10002 non-null  int64  \n",
						" 4   geography        10002 non-null  object \n",
						" 5   gender           10002 non-null  object \n",
						" 6   age              10001 non-null  float64\n",
						" 7   tenure           10002 non-null  int64  \n",
						" 8   balance          10002 non-null  float64\n",
						" 9   numofproducts    10002 non-null  int64  \n",
						" 10  hascrcard        10001 non-null  float64\n",
						" 11  isactivemember   10001 non-null  float64\n",
						" 12  estimatedsalary  10002 non-null  float64\n",
						" 13  exited           10002 non-null  int64  \n",
						"dtypes: float64(5), int64(6), object(3)\n",
						"memory usage: 1.1+ MB\n"
					]
				}
			],
			"source": [
				"df_clientes.info()"
			]
		},
		{
			"cell_type": "code",
			"execution_count": 8,
			"metadata": {
				"tags": [],
				"trusted": true,
				"vscode": {
					"languageId": "python_glue_session"
				}
			},
			"outputs": [
				{
					"name": "stdout",
					"output_type": "stream",
					"text": [
						"rownumber          0\n",
						"customerid         0\n",
						"surname            0\n",
						"creditscore        0\n",
						"geography          0\n",
						"gender             0\n",
						"age                1\n",
						"tenure             0\n",
						"balance            0\n",
						"numofproducts      0\n",
						"hascrcard          1\n",
						"isactivemember     1\n",
						"estimatedsalary    0\n",
						"exited             0\n",
						"dtype: int64\n"
					]
				}
			],
			"source": [
				"# Verificando valores nulos\n",
				"df_clientes.isnull().sum()"
			]
		},
		{
			"cell_type": "code",
			"execution_count": 9,
			"metadata": {
				"tags": [],
				"trusted": true,
				"vscode": {
					"languageId": "python_glue_session"
				}
			},
			"outputs": [
				{
					"name": "stdout",
					"output_type": "stream",
					"text": [
						"2\n"
					]
				}
			],
			"source": [
				"# Verificando valores duplicados\n",
				"df_clientes.duplicated().sum()"
			]
		},
		{
			"cell_type": "code",
			"execution_count": 10,
			"metadata": {
				"tags": [],
				"trusted": true,
				"vscode": {
					"languageId": "python_glue_session"
				}
			},
			"outputs": [
				{
					"name": "stdout",
					"output_type": "stream",
					"text": [
						"10002\n"
					]
				}
			],
			"source": [
				"#quantidade atual de registros\n",
				"len(df_clientes)"
			]
		},
		{
			"cell_type": "code",
			"execution_count": 28,
			"metadata": {
				"tags": [],
				"trusted": true,
				"vscode": {
					"languageId": "python_glue_session"
				}
			},
			"outputs": [
				{
					"name": "stdout",
					"output_type": "stream",
					"text": [
						"       creditscore geography  gender  ...  isactivemember  estimatedsalary  exited\n",
						"0              619    France  Female  ...             1.0        101348.88       1\n",
						"1              608     Spain  Female  ...             1.0        112542.58       0\n",
						"2              502    France  Female  ...             0.0        113931.57       1\n",
						"3              699    France  Female  ...             0.0         93826.63       0\n",
						"4              850     Spain  Female  ...             1.0         79084.10       0\n",
						"...            ...       ...     ...  ...             ...              ...     ...\n",
						"9997           709    France  Female  ...             1.0         42085.58       1\n",
						"9998           772   Germany    Male  ...             0.0         92888.52       1\n",
						"9999           772   Germany    Male  ...             0.0         92888.52       1\n",
						"10000          792    France  Female  ...             0.0         38190.78       0\n",
						"10001          792    France  Female  ...             0.0         38190.78       0\n",
						"\n",
						"[10002 rows x 11 columns]\n"
					]
				}
			],
			"source": [
				"df_clientes_saida = df_clientes.drop(['customerid', 'surname', 'rownumber'], axis = 1)\n",
				"df_clientes_saida"
			]
		},
		{
			"cell_type": "code",
			"execution_count": 29,
			"metadata": {
				"tags": [],
				"trusted": true,
				"vscode": {
					"languageId": "python_glue_session"
				}
			},
			"outputs": [
				{
					"name": "stdout",
					"output_type": "stream",
					"text": [
						"\n"
					]
				}
			],
			"source": [
				"#Exclusão de duplicados\n",
				"df_clientes_saida = df_clientes_saida.drop_duplicates()"
			]
		},
		{
			"cell_type": "code",
			"execution_count": 30,
			"metadata": {
				"tags": [],
				"trusted": true,
				"vscode": {
					"languageId": "python_glue_session"
				}
			},
			"outputs": [
				{
					"name": "stdout",
					"output_type": "stream",
					"text": [
						"\n"
					]
				}
			],
			"source": [
				"#Exclusão de Nulos\n",
				"df_clientes_saida = df_clientes_saida.dropna()"
			]
		},
		{
			"cell_type": "code",
			"execution_count": 31,
			"metadata": {
				"tags": [],
				"trusted": true,
				"vscode": {
					"languageId": "python_glue_session"
				}
			},
			"outputs": [
				{
					"name": "stdout",
					"output_type": "stream",
					"text": [
						"9997\n"
					]
				}
			],
			"source": [
				"len(df_clientes_saida)"
			]
		},
		{
			"cell_type": "code",
			"execution_count": 32,
			"metadata": {
				"tags": [],
				"trusted": true,
				"vscode": {
					"languageId": "python_glue_session"
				}
			},
			"outputs": [
				{
					"name": "stdout",
					"output_type": "stream",
					"text": [
						"   creditscore   age  tenure  ...  geography_Spain  gender_Female  gender_Male\n",
						"0          619  42.0       2  ...            False           True        False\n",
						"1          608  41.0       1  ...             True           True        False\n",
						"2          502  42.0       8  ...            False           True        False\n",
						"3          699  39.0       1  ...            False           True        False\n",
						"5          645  44.0       8  ...             True          False         True\n",
						"\n",
						"[5 rows x 15 columns]\n"
					]
				}
			],
			"source": [
				"# Codificando one-hot para as colunas 'Geography' e 'Gender'\n",
				"df_clientes_saida = pd.get_dummies(data=df_clientes_saida, columns=['geography', 'gender'], dtype=bool)\n",
				"df_clientes_saida.head()"
			]
		},
		{
			"cell_type": "markdown",
			"metadata": {
				"editable": true,
				"trusted": true
			},
			"source": [
				"#### Escrita da tabela modificada na camada curated\n"
			]
		},
		{
			"cell_type": "code",
			"execution_count": 33,
			"metadata": {
				"tags": [],
				"trusted": true,
				"vscode": {
					"languageId": "python_glue_session"
				}
			},
			"outputs": [
				{
					"name": "stdout",
					"output_type": "stream",
					"text": [
						"<class 'pandas.core.frame.DataFrame'>\n",
						"Int64Index: 9997 entries, 0 to 10000\n",
						"Data columns (total 15 columns):\n",
						" #   Column             Non-Null Count  Dtype  \n",
						"---  ------             --------------  -----  \n",
						" 0   creditscore        9997 non-null   int64  \n",
						" 1   age                9997 non-null   float64\n",
						" 2   tenure             9997 non-null   int64  \n",
						" 3   balance            9997 non-null   float64\n",
						" 4   numofproducts      9997 non-null   int64  \n",
						" 5   hascrcard          9997 non-null   float64\n",
						" 6   isactivemember     9997 non-null   float64\n",
						" 7   estimatedsalary    9997 non-null   float64\n",
						" 8   exited             9997 non-null   int64  \n",
						" 9   geography_         9997 non-null   bool   \n",
						" 10  geography_France   9997 non-null   bool   \n",
						" 11  geography_Germany  9997 non-null   bool   \n",
						" 12  geography_Spain    9997 non-null   bool   \n",
						" 13  gender_Female      9997 non-null   bool   \n",
						" 14  gender_Male        9997 non-null   bool   \n",
						"dtypes: bool(6), float64(5), int64(4)\n",
						"memory usage: 839.6 KB\n"
					]
				}
			],
			"source": [
				"df_clientes_saida.info()"
			]
		},
		{
			"cell_type": "code",
			"execution_count": 40,
			"metadata": {
				"tags": [],
				"trusted": true,
				"vscode": {
					"languageId": "python_glue_session"
				}
			},
			"outputs": [
				{
					"name": "stdout",
					"output_type": "stream",
					"text": [
						"\n"
					]
				}
			],
			"source": [
				"#transformacao de tipagem dos dataframes para o padrão de saída do glue job\n",
				"psser = ps.from_pandas(df_clientes_saida)\n",
				"\n",
				"pssdf = psser.to_spark()\n",
				"\n",
				"df_saida_glue = DynamicFrame.fromDF(pssdf, glueContext, \"df_saida_glue\")"
			]
		},
		{
			"cell_type": "code",
			"execution_count": 45,
			"metadata": {
				"editable": true,
				"trusted": true,
				"vscode": {
					"languageId": "python_glue_session"
				}
			},
			"outputs": [
				{
					"name": "stdout",
					"output_type": "stream",
					"text": [
						"<awsglue.dynamicframe.DynamicFrame object at 0x7fb73460bb50>\n"
					]
				}
			],
			"source": [
				"s3_path = \"s3://grupo3-2024-1-machine-learning/curated/\"\n",
				"s3output = glueContext.purge_s3_path(s3_path,  {\"retentionPeriod\": 0})\n",
				"s3output = glueContext.getSink(\n",
				"  path=s3_path,\n",
				"  connection_type=\"s3\",\n",
				"  updateBehavior=\"UPDATE_IN_DATABASE\",\n",
				"  partitionKeys=[],\n",
				"  compression=\"snappy\",\n",
				"  enableUpdateCatalog=True,\n",
				"  transformation_ctx=\"s3output\",\n",
				"mode = \"overwrite\"\n",
				")\n",
				"s3output.setCatalogInfo(\n",
				"  catalogDatabase=\"banking_tables\", catalogTableName=\"clientes_bancarios_limpa\"\n",
				")\n",
				"s3output.setFormat(\"glueparquet\")\n",
				"s3output.writeFrame(df_saida_glue)"
			]
		}
	],
	"metadata": {
		"kernelspec": {
			"display_name": "Glue PySpark",
			"language": "python",
			"name": "glue_pyspark"
		},
		"language_info": {
			"codemirror_mode": {
				"name": "python",
				"version": 3
			},
			"file_extension": ".py",
			"mimetype": "text/x-python",
			"name": "Python_Glue_Session",
			"pygments_lexer": "python3"
		}
	},
	"nbformat": 4,
	"nbformat_minor": 4
}
